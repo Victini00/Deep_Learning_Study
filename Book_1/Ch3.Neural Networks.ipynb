{
 "cells": [
  {
   "cell_type": "code",
   "execution_count": 11,
   "id": "2dd35712",
   "metadata": {},
   "outputs": [],
   "source": [
    "import numpy as np \n",
    "import matplotlib.pylab as plt "
   ]
  },
  {
   "cell_type": "markdown",
   "id": "9e6a0adf",
   "metadata": {},
   "source": [
    "### Activation function\n",
    "\n",
    "y = h(b + w1x1 + ...)\n",
    "\n",
    "1. step function... 1 when value is >= 0, 0 otherwise.\n",
    "2. sigmoid.. y = 0.5 when x = 0. 0 <= y <= 1. log function!\n",
    "3. ReLU\n",
    "\n",
    "both are non-linear."
   ]
  },
  {
   "cell_type": "code",
   "execution_count": 12,
   "id": "63ea208f",
   "metadata": {},
   "outputs": [
    {
     "data": {
      "image/png": "[encoded data removed]",
      "text/plain": [
       "<Figure size 640x480 with 1 Axes>"
      ]
     },
     "metadata": {},
     "output_type": "display_data"
    }
   ],
   "source": [
    "def step_function(x):\n",
    "    y = x > 0\n",
    "    return y.astype(int)\n",
    "\n",
    "def sigmoid(x):\n",
    "    return 1 / (1 + np.exp(-x))\n",
    "\n",
    "def ReLU(x):\n",
    "    # return 0 if x < 0 else x\n",
    "    return np.maximum(0, x)\n",
    "\n",
    "x = np.arange(-5.0, 5.0, 0.1)\n",
    "\n",
    "y1 = step_function(x)\n",
    "y2 = sigmoid(x)\n",
    "y3 = ReLU(x)\n",
    "\n",
    "plt.plot(x, y1)\n",
    "plt.plot(x, y2, linestyle = \"--\")\n",
    "plt.plot(x, y3, linestyle = \":\")\n",
    "\n",
    "plt.ylim(-0.1, 1.1)\n",
    "plt.show()"
   ]
  },
  {
   "cell_type": "markdown",
   "id": "e10833ea",
   "metadata": {},
   "source": [
    "multiple layers of linear function .. also linear.\n",
    "\n",
    "so we SHOULD use non-linear function as activation fuction."
   ]
  },
  {
   "cell_type": "code",
   "execution_count": 13,
   "id": "1be2a94d",
   "metadata": {},
   "outputs": [
    {
     "name": "stdout",
     "output_type": "stream",
     "text": [
      "[ 5 11 17]\n"
     ]
    }
   ],
   "source": [
    "# some np functions\n",
    "\n",
    "A = np.array([1, 2, 3, 4])\n",
    "\n",
    "np.ndim(A) # dimensions\n",
    "\n",
    "A.shape # shape of array (tuple)\n",
    "\n",
    "A.shape[0] # first element of shape of array.\n",
    "\n",
    "# Note that..\n",
    "X = np.array([1, 2]) \n",
    "\n",
    "X.shape # not (1, 2), but (2, ). -> dimension = 1\n",
    "\n",
    "W = np.array([[1, 3, 5], [2, 4, 6]])\n",
    "\n",
    "ans = np.dot(X, W)\n",
    "print(ans)"
   ]
  },
  {
   "cell_type": "markdown",
   "id": "caccf3db",
   "metadata": {},
   "source": [
    "Implementation of 3-layer NN"
   ]
  },
  {
   "cell_type": "code",
   "execution_count": 14,
   "id": "9b5c11ab",
   "metadata": {},
   "outputs": [
    {
     "name": "stdout",
     "output_type": "stream",
     "text": [
      "(3,)\n"
     ]
    }
   ],
   "source": [
    "X = np.array([0.1, 0.2])\n",
    "X.shape # (2, )\n",
    "\n",
    "W = np.array([[1, 2, 3],[4, 5, 6]])\n",
    "W.shape # (2, 3)\n",
    "\n",
    "B1 = np.array([0.1, 0.2, 0.3])\n",
    "B1.shape # (3, )\n",
    "\n",
    "# (2, ) * (2, 3) = (3, )\n",
    "\n",
    "# Y = first layer values\n",
    "Y = sigmoid(np.dot(X, W) + B1)\n",
    "print(Y.shape) # (3, )\n",
    "\n",
    "# second layer values..."
   ]
  },
  {
   "cell_type": "markdown",
   "id": "262bec6d",
   "metadata": {},
   "source": [
    "softmax\n",
    "~ interpreted as \"Probability\""
   ]
  },
  {
   "cell_type": "code",
   "execution_count": 15,
   "id": "0c33894e",
   "metadata": {},
   "outputs": [
    {
     "name": "stdout",
     "output_type": "stream",
     "text": [
      "[0.01821127 0.24519181 0.73659691]\n"
     ]
    }
   ],
   "source": [
    "a = np.array([0.3, 2.9, 4.0])\n",
    "\n",
    "exp_a = np.exp(a)\n",
    "\n",
    "sum_exp_a = sum(exp_a)\n",
    "\n",
    "softmax = exp_a / sum_exp_a\n",
    "print(softmax)\n",
    "\n",
    "# what about overflow?"
   ]
  },
  {
   "cell_type": "markdown",
   "id": "7abb71ae",
   "metadata": {},
   "source": [
    "# softmax tricks\n",
    "\n",
    "yk = exp(ak) / sum(exp(ai))\n",
    "   = C * exp(ak) / C * sum(exp(ai))\n",
    "   = exp(ak + logC) / sum(exp(ai + logC))\n",
    "   = exp(ak + C') / sum(exp(ai + C'))"
   ]
  },
  {
   "cell_type": "code",
   "execution_count": 16,
   "id": "835d66b4",
   "metadata": {},
   "outputs": [
    {
     "name": "stderr",
     "output_type": "stream",
     "text": [
      "C:\\Users\\a\\AppData\\Local\\Temp\\ipykernel_31212\\3172194998.py:3: RuntimeWarning: overflow encountered in exp\n",
      "  np.exp(a) / np.sum(np.exp(a))\n",
      "C:\\Users\\a\\AppData\\Local\\Temp\\ipykernel_31212\\3172194998.py:3: RuntimeWarning: invalid value encountered in divide\n",
      "  np.exp(a) / np.sum(np.exp(a))\n"
     ]
    },
    {
     "data": {
      "text/plain": [
       "array([9.99954600e-01, 4.53978686e-05, 2.06106005e-09])"
      ]
     },
     "execution_count": 16,
     "metadata": {},
     "output_type": "execute_result"
    }
   ],
   "source": [
    "a = np.array([1010, 1000, 990])\n",
    "\n",
    "np.exp(a) / np.sum(np.exp(a)) \n",
    "\n",
    "# nans..\n",
    "# solution) use C'\n",
    "\n",
    "c = np.max(a)\n",
    "np.exp(a-c) / np.sum(np.exp(a-c))\n",
    "\n"
   ]
  },
  {
   "cell_type": "code",
   "execution_count": 17,
   "id": "d5f9e084",
   "metadata": {},
   "outputs": [],
   "source": [
    "def softmax(a):\n",
    "    c = np.max(a)\n",
    "    exp_a = np.exp(a-c)\n",
    "    sum_exp_a = np.sum(exp_a)\n",
    "    y = exp_a / sum_exp_a\n",
    "\n",
    "    return y"
   ]
  },
  {
   "cell_type": "markdown",
   "id": "455e41eb",
   "metadata": {},
   "source": [
    "Recognition of MNIST\n",
    "\n",
    "Dataset from \"Introduction to Machine Learning; SNU2025-1\"\n",
    "\n",
    "* this dataset is different from original dataset. (16 x 16)"
   ]
  },
  {
   "cell_type": "code",
   "execution_count": 18,
   "id": "0e8860d1",
   "metadata": {},
   "outputs": [
    {
     "name": "stdout",
     "output_type": "stream",
     "text": [
      "x_train.shape: (300, 256)\n",
      "t_train.shape: (300,)\n",
      "x_eval.shape: (300, 256)\n",
      "t_eval.shape: (300,)\n"
     ]
    }
   ],
   "source": [
    "# Get datasets(16x16 pixel images)\n",
    "# source code by SNUIML, GPT\n",
    "\n",
    "from pathlib import Path\n",
    "import numpy as np\n",
    "\n",
    "# 1. Get train set\n",
    "path = Path(\"trainset.csv\")\n",
    "\n",
    "with path.open() as f: \n",
    "    lines = f.readlines()\n",
    "\n",
    "data = [list(map(int, line.strip().split(','))) for line in lines[1:]]\n",
    "\n",
    "data = np.array(data)\n",
    "\n",
    "t_train = data[:, 0]        \n",
    "x_train = data[:, 1:]\n",
    "\n",
    "# check\n",
    "print(\"x_train.shape:\", x_train.shape)\n",
    "print(\"t_train.shape:\", t_train.shape)\n",
    "\n",
    "# print(x_train[1][1])\n",
    "\n",
    "# 2. Get evaluation set\n",
    "path = Path(\"evalset.csv\")\n",
    "\n",
    "with path.open() as f: \n",
    "    lines = f.readlines()\n",
    "\n",
    "data = [list(map(int, line.strip().split(','))) for line in lines[1:]]\n",
    "\n",
    "data = np.array(data)\n",
    "\n",
    "t_eval = data[:, 0]        \n",
    "x_eval = data[:, 1:]\n",
    "\n",
    "# check\n",
    "print(\"x_eval.shape:\", x_eval.shape)\n",
    "print(\"t_eval.shape:\", t_eval.shape)"
   ]
  },
  {
   "cell_type": "markdown",
   "id": "c2185f46",
   "metadata": {},
   "source": [
    "Note)\n",
    "\n",
    "np.array.flatten() -> makes nparray 1-d"
   ]
  },
  {
   "cell_type": "markdown",
   "id": "7c9330d1",
   "metadata": {},
   "source": [
    "One hot Encoding: only one element indicates 1, otherwise 0.\n",
    "\n",
    "ex) [1, 0, 0, ... 0]"
   ]
  },
  {
   "cell_type": "code",
   "execution_count": 19,
   "id": "adddb401",
   "metadata": {},
   "outputs": [
    {
     "data": {
      "image/jpeg": "[encoded data removed]",
      "image/png": "[encoded data removed]",
      "text/plain": [
       "<PIL.Image.Image image mode=L size=16x16>"
      ]
     },
     "metadata": {},
     "output_type": "display_data"
    },
    {
     "data": {
      "image/jpeg": "[encoded data removed]",
      "image/png": "[encoded data removed]",
      "text/plain": [
       "<PIL.Image.Image image mode=L size=16x16>"
      ]
     },
     "metadata": {},
     "output_type": "display_data"
    },
    {
     "data": {
      "image/jpeg": "[encoded data removed]",
      "image/png": "[encoded data removed]",
      "text/plain": [
       "<PIL.Image.Image image mode=L size=16x16>"
      ]
     },
     "metadata": {},
     "output_type": "display_data"
    },
    {
     "data": {
      "image/jpeg": "[encoded data removed]",
      "image/png": "[encoded data removed]",
      "text/plain": [
       "<PIL.Image.Image image mode=L size=16x16>"
      ]
     },
     "metadata": {},
     "output_type": "display_data"
    },
    {
     "data": {
      "image/jpeg": "[encoded data removed]",
      "image/png": "[encoded data removed]",
      "text/plain": [
       "<PIL.Image.Image image mode=L size=16x16>"
      ]
     },
     "metadata": {},
     "output_type": "display_data"
    },
    {
     "data": {
      "image/jpeg": "[encoded data removed]",
      "image/png": "[encoded data removed]",
      "text/plain": [
       "<PIL.Image.Image image mode=L size=16x16>"
      ]
     },
     "metadata": {},
     "output_type": "display_data"
    },
    {
     "data": {
      "image/jpeg": "[encoded data removed]",
      "image/png": "[encoded data removed]",
      "text/plain": [
       "<PIL.Image.Image image mode=L size=16x16>"
      ]
     },
     "metadata": {},
     "output_type": "display_data"
    },
    {
     "data": {
      "image/jpeg": "[encoded data removed]",
      "image/png": "[encoded data removed]",
      "text/plain": [
       "<PIL.Image.Image image mode=L size=16x16>"
      ]
     },
     "metadata": {},
     "output_type": "display_data"
    },
    {
     "data": {
      "image/jpeg": "[encoded data removed]",
      "image/png": "[encoded data removed]",
      "text/plain": [
       "<PIL.Image.Image image mode=L size=16x16>"
      ]
     },
     "metadata": {},
     "output_type": "display_data"
    },
    {
     "data": {
      "image/jpeg": "[encoded data removed]",
      "image/png": "[encoded data removed]",
      "text/plain": [
       "<PIL.Image.Image image mode=L size=16x16>"
      ]
     },
     "metadata": {},
     "output_type": "display_data"
    }
   ],
   "source": [
    "# image test\n",
    "\n",
    "from PIL import Image\n",
    "from IPython.display import display\n",
    "\n",
    "for i in range(0,300,30):\n",
    "    \n",
    "    img_array = x_train[i].reshape((16, 16)).astype(np.uint8)\n",
    "\n",
    "    img = Image.fromarray(img_array, mode = 'L') # L means 0~255 monochrome\n",
    "\n",
    "    display(img)"
   ]
  },
  {
   "cell_type": "markdown",
   "id": "49d2cdcc",
   "metadata": {},
   "source": [
    "from now, we will initialize and regulate 'weights' of NN for this dataset.. "
   ]
  },
  {
   "cell_type": "markdown",
   "id": "764497d2",
   "metadata": {},
   "source": [
    "if input data is single..\n",
    "\n",
    "X = (256,)\n",
    "W1 = (256, num1)\n",
    "W2 = (num1, num2)..\n",
    "..\n",
    "WN = (num(n-1), 10)\n",
    "Y = (10,)\n",
    "\n",
    "if multiple sets\n",
    "\n",
    "X = (10, 256)\n",
    "W1 = (256, num1)\n",
    "..\n",
    "WN = (num(n-1), 10)\n",
    "Y = (100, 10)"
   ]
  }
 ],
 "metadata": {
  "kernelspec": {
   "display_name": "base",
   "language": "python",
   "name": "python3"
  },
  "language_info": {
   "codemirror_mode": {
    "name": "ipython",
    "version": 3
   },
   "file_extension": ".py",
   "mimetype": "text/x-python",
   "name": "python",
   "nbconvert_exporter": "python",
   "pygments_lexer": "ipython3",
   "version": "3.11.7"
  }
 },
 "nbformat": 4,
 "nbformat_minor": 5
}
