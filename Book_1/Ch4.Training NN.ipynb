{
 "cells": [
  {
   "cell_type": "markdown",
   "id": "ab5ae1d3",
   "metadata": {},
   "source": [
    "Perceptron convergence theorem &\n",
    "Gradient descent convergence theorem\n",
    "\n",
    "when we select appropriate learning rate, we can make error less than set value."
   ]
  },
  {
   "cell_type": "markdown",
   "id": "0bb7e74d",
   "metadata": {},
   "source": [
    "# Loss function\n",
    "\n",
    "#### 1. MSE: \n",
    "$$1/2 \\cdot \\sum_{k=1}^{n} (yk-tk)^2$$"
   ]
  },
  {
   "cell_type": "code",
   "execution_count": 33,
   "id": "842268ec",
   "metadata": {},
   "outputs": [],
   "source": [
    "import numpy as np\n",
    "\n",
    "def mean_squared_error(y, t):\n",
    "    return 0.5 * np.sum((y-t)**2)"
   ]
  },
  {
   "cell_type": "markdown",
   "id": "b9dc751c",
   "metadata": {},
   "source": [
    "#### 2. CEE ~ Cross Entropy error\n",
    "\n",
    "$$-\\sum_{i=1}^{n} ti \\cdot log(yi)$$\n",
    "\n",
    "yi is output & ti is answer label.\n",
    "\n",
    "---\n",
    "\n",
    "ex)       \n",
    "binary problem. answer label = {0, 1}\n",
    "\n",
    "Let y(i) = sigmoid(θ^Txi + θ0).   \n",
    "\n",
    "\n",
    "\n",
    "\n",
    "\n",
    "y(i) means.. <u>\"degree of certainity of 1\"</u>\n",
    "\n",
    "so 1 - y(i) also means.. <u>\"degree of certainity of 0\"</u>\n",
    "       \n",
    "$$\n",
    "\\prod_{i=1}^{n} y_i^{t_i} \\cdot (1 - y_i)^{1 - t_i}\n",
    "$$\n",
    "we should maximize this.   \n",
    "\n",
    "by adding minus, we can change it to <u>\"loss function minimize problem\"</u>   \n",
    "\n",
    "and also using log, we can simplify total formula.     \n",
    "\n",
    "<b> it is same form as above! </b>"
   ]
  },
  {
   "cell_type": "code",
   "execution_count": 34,
   "id": "131408f7",
   "metadata": {},
   "outputs": [],
   "source": [
    "import numpy as np\n",
    "\n",
    "def cross_entropy_error(y, t): \n",
    "    return -np.sum(t * np.log(y + 1e-7))"
   ]
  },
  {
   "cell_type": "code",
   "execution_count": 35,
   "id": "bd936f45",
   "metadata": {},
   "outputs": [
    {
     "data": {
      "text/plain": [
       "0.510825457099338"
      ]
     },
     "execution_count": 35,
     "metadata": {},
     "output_type": "execute_result"
    }
   ],
   "source": [
    "t = [0, 0, 1, 0, 0, 0, 0]\n",
    "y = [0.1, 0.05, 0.6, 0.0, 0.05, 0.1, 0.1]\n",
    "\n",
    "t = np.array(t)\n",
    "y = np.array(y)\n",
    "\n",
    "cross_entropy_error(y, t)"
   ]
  },
  {
   "cell_type": "markdown",
   "id": "a35144c6",
   "metadata": {},
   "source": [
    "#### 3. mini-batch\n"
   ]
  },
  {
   "cell_type": "code",
   "execution_count": 52,
   "id": "602683c5",
   "metadata": {},
   "outputs": [
    {
     "name": "stdout",
     "output_type": "stream",
     "text": [
      "x_train.shape: (300, 256)\n",
      "t_train.shape: (300, 10)\n",
      "x_test.shape: (300, 256)\n",
      "t_test.shape: (300, 10)\n"
     ]
    }
   ],
   "source": [
    "import sys, os\n",
    "sys.path.append(os.pardir)\n",
    "\n",
    "import numpy as np\n",
    "from pathlib import Path\n",
    "\n",
    "# same code as Ch3\n",
    "\n",
    "path = Path(\"trainset.csv\")\n",
    "\n",
    "with path.open() as f: \n",
    "    lines = f.readlines()\n",
    "\n",
    "data = [list(map(int, line.strip().split(','))) for line in lines[1:]]\n",
    "\n",
    "data = np.array(data)\n",
    "     \n",
    "x_train = data[:, 1:]\n",
    "\n",
    "t_train_temp = data[:, 0]  \n",
    "t_train = np.zeros((x_train.shape[0], 10), dtype=int)\n",
    "\n",
    "# one-hot coding \n",
    "for i, j in enumerate(t_train_temp):\n",
    "    t_train[i][j] = 1\n",
    "\n",
    "# check\n",
    "print(\"x_train.shape:\", x_train.shape)\n",
    "print(\"t_train.shape:\", t_train.shape)\n",
    "\n",
    "# print(t_train)\n",
    "\n",
    "##########################################\n",
    "path = Path(\"evalset.csv\")\n",
    "\n",
    "with path.open() as f: \n",
    "    lines = f.readlines()\n",
    "\n",
    "data = [list(map(int, line.strip().split(','))) for line in lines[1:]]\n",
    "\n",
    "data = np.array(data)\n",
    "\n",
    "# use as test data\n",
    "x_test = data[:, 1:]\n",
    "\n",
    "t_test_temp = data[:, 0] \n",
    "t_test = np.zeros((x_test.shape[0], 10), dtype=int)\n",
    "\n",
    "# check\n",
    "print(\"x_test.shape:\", x_test.shape)\n",
    "print(\"t_test.shape:\", t_test.shape)\n"
   ]
  },
  {
   "cell_type": "code",
   "execution_count": 37,
   "id": "66b690e5",
   "metadata": {},
   "outputs": [],
   "source": [
    "# choice batch's data\n",
    "train_size = x_train.shape[0]\n",
    "batch_size = 10\n",
    "\n",
    "batch_mask = np.random.choice(train_size, batch_size)\n",
    "\n",
    "x_batch = x_train[batch_mask]\n",
    "t_batch = t_train[batch_mask]"
   ]
  },
  {
   "cell_type": "code",
   "execution_count": 38,
   "id": "8f275210",
   "metadata": {},
   "outputs": [],
   "source": [
    "def cross_entropy_error(y, t):\n",
    "    if y.ndim == 1:\n",
    "        t = t.reshape(1, t.size)\n",
    "        y = y.reshape(1, y.size)\n",
    "\n",
    "    batch_size = y.shape[0]\n",
    "    return -np.sum(t * np.log(y + 1e-7)) / batch_size"
   ]
  },
  {
   "cell_type": "markdown",
   "id": "ca496cdd",
   "metadata": {},
   "source": [
    "#### 4. gradient / gradient descent\n",
    "\n",
    "In gradient descent method, we need to calculate gradient"
   ]
  },
  {
   "cell_type": "code",
   "execution_count": 46,
   "id": "51c7906f",
   "metadata": {},
   "outputs": [],
   "source": [
    "def gradient(f, x):\n",
    "    h = 1e-4\n",
    "    grad = np.zeros_like(x)\n",
    "\n",
    "    # 모든 좌표를 (i, j, ...) 형태로 가져오기\n",
    "    for idx in np.ndindex(x.shape):\n",
    "        tmp_val = x[idx]\n",
    "\n",
    "        x[idx] = tmp_val + h\n",
    "        fxh1 = f(x)\n",
    "\n",
    "        x[idx] = tmp_val - h\n",
    "        fxh2 = f(x)\n",
    "\n",
    "        grad[idx] = (fxh1 - fxh2) / (2*h)\n",
    "        x[idx] = tmp_val\n",
    "\n",
    "    return grad"
   ]
  },
  {
   "cell_type": "code",
   "execution_count": 40,
   "id": "582ccf5c",
   "metadata": {},
   "outputs": [],
   "source": [
    "def gradient_descent(f, init_x, lr = 0.01, step_num = 100):\n",
    "\n",
    "    x = init_x\n",
    "    \n",
    "    for i in range(step_num):\n",
    "        grad = gradient(f, x)\n",
    "        x -= lr * grad\n",
    "\n",
    "    return x"
   ]
  },
  {
   "cell_type": "code",
   "execution_count": 41,
   "id": "857c5596",
   "metadata": {},
   "outputs": [
    {
     "data": {
      "text/plain": [
       "array([-6.11110793e-10,  8.14814391e-10])"
      ]
     },
     "execution_count": 41,
     "metadata": {},
     "output_type": "execute_result"
    }
   ],
   "source": [
    "# test\n",
    "\n",
    "def function_1(x):\n",
    "    return x[0]**2 + x[1]**2\n",
    "\n",
    "init_x = np.array([-3.0, 4.0])\n",
    "gradient_descent(function_1, init_x = init_x, lr = 0.1, step_num = 100)"
   ]
  },
  {
   "cell_type": "code",
   "execution_count": 42,
   "id": "b271a083",
   "metadata": {},
   "outputs": [],
   "source": [
    "# GD - Neural Network\n",
    "import sys, os\n",
    "sys.path.append(os.pardir)\n",
    "\n",
    "import numpy as np\n",
    "\n",
    "class simpleNet:\n",
    "\n",
    "    def __init__(self):\n",
    "        self.W = np.random.randn(2, 3)\n",
    "\n",
    "    def predict(self, x):\n",
    "        return np.dot(x, self.W)\n",
    "    \n",
    "    def loss(self, x, t):\n",
    "        z = self.predict(x)\n",
    "        \n",
    "        # softmax\n",
    "        c = np.max(z)\n",
    "        exp_a = np.exp(z-c)\n",
    "        sum_exp_a = np.sum(exp_a)\n",
    "        y = exp_a / sum_exp_a\n",
    "\n",
    "        loss = cross_entropy_error(y, t)\n",
    "\n",
    "        return loss\n"
   ]
  },
  {
   "cell_type": "code",
   "execution_count": 43,
   "id": "12ebec1c",
   "metadata": {},
   "outputs": [],
   "source": [
    "import sys, os\n",
    "sys.path.append(os.pardir)  \n",
    "\n",
    "class TwoLayerNet:\n",
    "\n",
    "    def __init__(self, input_size, hidden_size, output_size, weight_init_std=0.01):\n",
    "        \n",
    "        # initialize params\n",
    "        self.params = {}\n",
    "        self.params['W1'] = weight_init_std * np.random.randn(input_size, hidden_size)\n",
    "        self.params['b1'] = np.zeros(hidden_size)\n",
    "        \n",
    "        self.params['W2'] = weight_init_std * np.random.randn(hidden_size, output_size)\n",
    "        self.params['b2'] = np.zeros(output_size)\n",
    "\n",
    "    def predict(self, x):\n",
    "        W1, W2 = self.params['W1'], self.params['W2']\n",
    "        b1, b2 = self.params['b1'], self.params['b2']\n",
    "    \n",
    "        a1 = np.dot(x, W1) + b1\n",
    "        # sigmoid \n",
    "        z1 = 1 / (1 + np.exp(-a1))\n",
    "\n",
    "        a2 = np.dot(z1, W2) + b2\n",
    "        # softmax\n",
    "        c = np.max(a2)\n",
    "        exp_a = np.exp(a2-c)\n",
    "        sum_exp_a = np.sum(exp_a)\n",
    "        y = exp_a / sum_exp_a\n",
    "        \n",
    "        return y\n",
    "        \n",
    "    def loss(self, x, t):\n",
    "        y = self.predict(x)\n",
    "        \n",
    "        return cross_entropy_error(y, t)\n",
    "    \n",
    "    def accuracy(self, x, t):\n",
    "        y = self.predict(x)\n",
    "        y = np.argmax(y, axis=1)\n",
    "        t = np.argmax(t, axis=1)\n",
    "        \n",
    "        accuracy = np.sum(y == t) / float(x.shape[0])\n",
    "        return accuracy\n",
    "        \n",
    "    def numerical_gradient(self, x, t):\n",
    "        loss_W = lambda W: self.loss(x, t)\n",
    "        \n",
    "        grads = {}\n",
    "        grads['W1'] = gradient(loss_W, self.params['W1'])\n",
    "        grads['b1'] = gradient(loss_W, self.params['b1'])\n",
    "        grads['W2'] = gradient(loss_W, self.params['W2'])\n",
    "        grads['b2'] = gradient(loss_W, self.params['b2'])\n",
    "        \n",
    "        return grads"
   ]
  },
  {
   "cell_type": "code",
   "execution_count": 44,
   "id": "5f0a36af",
   "metadata": {},
   "outputs": [
    {
     "name": "stdout",
     "output_type": "stream",
     "text": [
      "(256, 50)\n",
      "(50,)\n",
      "(50, 10)\n",
      "(10,)\n"
     ]
    }
   ],
   "source": [
    "# size test\n",
    "net = TwoLayerNet(input_size=256, hidden_size = 50, output_size=10)\n",
    "\n",
    "print(net.params['W1'].shape)\n",
    "print(net.params['b1'].shape)\n",
    "print(net.params['W2'].shape)\n",
    "print(net.params['b2'].shape)"
   ]
  },
  {
   "cell_type": "code",
   "execution_count": 56,
   "id": "e1c517e3",
   "metadata": {},
   "outputs": [
    {
     "name": "stdout",
     "output_type": "stream",
     "text": [
      "train acc, test acc | 0.29333333333333333, 0.0\n",
      "train acc, test acc | 0.27, 0.0033333333333333335\n",
      "train acc, test acc | 0.56, 0.12333333333333334\n",
      "train acc, test acc | 0.6866666666666666, 0.13666666666666666\n",
      "train acc, test acc | 0.6233333333333333, 0.2833333333333333\n"
     ]
    },
    {
     "ename": "KeyboardInterrupt",
     "evalue": "",
     "output_type": "error",
     "traceback": [
      "\u001b[1;31m---------------------------------------------------------------------------\u001b[0m",
      "\u001b[1;31mKeyboardInterrupt\u001b[0m                         Traceback (most recent call last)",
      "Cell \u001b[1;32mIn[56], line 26\u001b[0m\n\u001b[0;32m     23\u001b[0m t_batch \u001b[38;5;241m=\u001b[39m t_train[batch_mask]\n\u001b[0;32m     25\u001b[0m \u001b[38;5;66;03m# calculate gradient\u001b[39;00m\n\u001b[1;32m---> 26\u001b[0m grad \u001b[38;5;241m=\u001b[39m network\u001b[38;5;241m.\u001b[39mnumerical_gradient(x_batch, t_batch)\n\u001b[0;32m     28\u001b[0m \u001b[38;5;66;03m# update params\u001b[39;00m\n\u001b[0;32m     29\u001b[0m \u001b[38;5;28;01mfor\u001b[39;00m key \u001b[38;5;129;01min\u001b[39;00m (\u001b[38;5;124m'\u001b[39m\u001b[38;5;124mW1\u001b[39m\u001b[38;5;124m'\u001b[39m, \u001b[38;5;124m'\u001b[39m\u001b[38;5;124mb1\u001b[39m\u001b[38;5;124m'\u001b[39m, \u001b[38;5;124m'\u001b[39m\u001b[38;5;124mW2\u001b[39m\u001b[38;5;124m'\u001b[39m, \u001b[38;5;124m'\u001b[39m\u001b[38;5;124mb2\u001b[39m\u001b[38;5;124m'\u001b[39m):\n",
      "Cell \u001b[1;32mIn[43], line 50\u001b[0m, in \u001b[0;36mTwoLayerNet.numerical_gradient\u001b[1;34m(self, x, t)\u001b[0m\n\u001b[0;32m     47\u001b[0m loss_W \u001b[38;5;241m=\u001b[39m \u001b[38;5;28;01mlambda\u001b[39;00m W: \u001b[38;5;28mself\u001b[39m\u001b[38;5;241m.\u001b[39mloss(x, t)\n\u001b[0;32m     49\u001b[0m grads \u001b[38;5;241m=\u001b[39m {}\n\u001b[1;32m---> 50\u001b[0m grads[\u001b[38;5;124m'\u001b[39m\u001b[38;5;124mW1\u001b[39m\u001b[38;5;124m'\u001b[39m] \u001b[38;5;241m=\u001b[39m gradient(loss_W, \u001b[38;5;28mself\u001b[39m\u001b[38;5;241m.\u001b[39mparams[\u001b[38;5;124m'\u001b[39m\u001b[38;5;124mW1\u001b[39m\u001b[38;5;124m'\u001b[39m])\n\u001b[0;32m     51\u001b[0m grads[\u001b[38;5;124m'\u001b[39m\u001b[38;5;124mb1\u001b[39m\u001b[38;5;124m'\u001b[39m] \u001b[38;5;241m=\u001b[39m gradient(loss_W, \u001b[38;5;28mself\u001b[39m\u001b[38;5;241m.\u001b[39mparams[\u001b[38;5;124m'\u001b[39m\u001b[38;5;124mb1\u001b[39m\u001b[38;5;124m'\u001b[39m])\n\u001b[0;32m     52\u001b[0m grads[\u001b[38;5;124m'\u001b[39m\u001b[38;5;124mW2\u001b[39m\u001b[38;5;124m'\u001b[39m] \u001b[38;5;241m=\u001b[39m gradient(loss_W, \u001b[38;5;28mself\u001b[39m\u001b[38;5;241m.\u001b[39mparams[\u001b[38;5;124m'\u001b[39m\u001b[38;5;124mW2\u001b[39m\u001b[38;5;124m'\u001b[39m])\n",
      "Cell \u001b[1;32mIn[46], line 13\u001b[0m, in \u001b[0;36mgradient\u001b[1;34m(f, x)\u001b[0m\n\u001b[0;32m     10\u001b[0m fxh1 \u001b[38;5;241m=\u001b[39m f(x)\n\u001b[0;32m     12\u001b[0m x[idx] \u001b[38;5;241m=\u001b[39m tmp_val \u001b[38;5;241m-\u001b[39m h\n\u001b[1;32m---> 13\u001b[0m fxh2 \u001b[38;5;241m=\u001b[39m f(x)\n\u001b[0;32m     15\u001b[0m grad[idx] \u001b[38;5;241m=\u001b[39m (fxh1 \u001b[38;5;241m-\u001b[39m fxh2) \u001b[38;5;241m/\u001b[39m (\u001b[38;5;241m2\u001b[39m\u001b[38;5;241m*\u001b[39mh)\n\u001b[0;32m     16\u001b[0m x[idx] \u001b[38;5;241m=\u001b[39m tmp_val\n",
      "Cell \u001b[1;32mIn[43], line 47\u001b[0m, in \u001b[0;36mTwoLayerNet.numerical_gradient.<locals>.<lambda>\u001b[1;34m(W)\u001b[0m\n\u001b[0;32m     46\u001b[0m \u001b[38;5;28;01mdef\u001b[39;00m \u001b[38;5;21mnumerical_gradient\u001b[39m(\u001b[38;5;28mself\u001b[39m, x, t):\n\u001b[1;32m---> 47\u001b[0m     loss_W \u001b[38;5;241m=\u001b[39m \u001b[38;5;28;01mlambda\u001b[39;00m W: \u001b[38;5;28mself\u001b[39m\u001b[38;5;241m.\u001b[39mloss(x, t)\n\u001b[0;32m     49\u001b[0m     grads \u001b[38;5;241m=\u001b[39m {}\n\u001b[0;32m     50\u001b[0m     grads[\u001b[38;5;124m'\u001b[39m\u001b[38;5;124mW1\u001b[39m\u001b[38;5;124m'\u001b[39m] \u001b[38;5;241m=\u001b[39m gradient(loss_W, \u001b[38;5;28mself\u001b[39m\u001b[38;5;241m.\u001b[39mparams[\u001b[38;5;124m'\u001b[39m\u001b[38;5;124mW1\u001b[39m\u001b[38;5;124m'\u001b[39m])\n",
      "Cell \u001b[1;32mIn[43], line 34\u001b[0m, in \u001b[0;36mTwoLayerNet.loss\u001b[1;34m(self, x, t)\u001b[0m\n\u001b[0;32m     33\u001b[0m \u001b[38;5;28;01mdef\u001b[39;00m \u001b[38;5;21mloss\u001b[39m(\u001b[38;5;28mself\u001b[39m, x, t):\n\u001b[1;32m---> 34\u001b[0m     y \u001b[38;5;241m=\u001b[39m \u001b[38;5;28mself\u001b[39m\u001b[38;5;241m.\u001b[39mpredict(x)\n\u001b[0;32m     36\u001b[0m     \u001b[38;5;28;01mreturn\u001b[39;00m cross_entropy_error(y, t)\n",
      "Cell \u001b[1;32mIn[43], line 20\u001b[0m, in \u001b[0;36mTwoLayerNet.predict\u001b[1;34m(self, x)\u001b[0m\n\u001b[0;32m     17\u001b[0m W1, W2 \u001b[38;5;241m=\u001b[39m \u001b[38;5;28mself\u001b[39m\u001b[38;5;241m.\u001b[39mparams[\u001b[38;5;124m'\u001b[39m\u001b[38;5;124mW1\u001b[39m\u001b[38;5;124m'\u001b[39m], \u001b[38;5;28mself\u001b[39m\u001b[38;5;241m.\u001b[39mparams[\u001b[38;5;124m'\u001b[39m\u001b[38;5;124mW2\u001b[39m\u001b[38;5;124m'\u001b[39m]\n\u001b[0;32m     18\u001b[0m b1, b2 \u001b[38;5;241m=\u001b[39m \u001b[38;5;28mself\u001b[39m\u001b[38;5;241m.\u001b[39mparams[\u001b[38;5;124m'\u001b[39m\u001b[38;5;124mb1\u001b[39m\u001b[38;5;124m'\u001b[39m], \u001b[38;5;28mself\u001b[39m\u001b[38;5;241m.\u001b[39mparams[\u001b[38;5;124m'\u001b[39m\u001b[38;5;124mb2\u001b[39m\u001b[38;5;124m'\u001b[39m]\n\u001b[1;32m---> 20\u001b[0m a1 \u001b[38;5;241m=\u001b[39m np\u001b[38;5;241m.\u001b[39mdot(x, W1) \u001b[38;5;241m+\u001b[39m b1\n\u001b[0;32m     21\u001b[0m \u001b[38;5;66;03m# sigmoid \u001b[39;00m\n\u001b[0;32m     22\u001b[0m z1 \u001b[38;5;241m=\u001b[39m \u001b[38;5;241m1\u001b[39m \u001b[38;5;241m/\u001b[39m (\u001b[38;5;241m1\u001b[39m \u001b[38;5;241m+\u001b[39m np\u001b[38;5;241m.\u001b[39mexp(\u001b[38;5;241m-\u001b[39ma1))\n",
      "\u001b[1;31mKeyboardInterrupt\u001b[0m: "
     ]
    }
   ],
   "source": [
    "# SGD\n",
    "import numpy as np\n",
    "\n",
    "train_loss_list = []\n",
    "train_acc_list = []\n",
    "test_acc_list = []\n",
    "\n",
    "iter_per_epoch = max(train_size / batch_size, 1)\n",
    "\n",
    "# hyperparameters\n",
    "iteration_num = 100\n",
    "train_size = x_train.shape[0] # 300\n",
    "batch_size = 300\n",
    "learning_rate = 0.1\n",
    "\n",
    "network = TwoLayerNet(input_size = 256, hidden_size = 50, output_size = 10)\n",
    "\n",
    "for i in range(iteration_num):\n",
    "\n",
    "    batch_mask = np.random.choice(train_size, batch_size)\n",
    "\n",
    "    x_batch = x_train[batch_mask]\n",
    "    t_batch = t_train[batch_mask]\n",
    "\n",
    "    # calculate gradient\n",
    "    grad = network.numerical_gradient(x_batch, t_batch)\n",
    "\n",
    "    # update params\n",
    "    for key in ('W1', 'b1', 'W2', 'b2'):\n",
    "        network.params[key] -= learning_rate * grad[key]\n",
    "\n",
    "    loss = network.loss(x_batch, t_batch)\n",
    "    train_loss_list.append(loss)\n",
    "    \n",
    "    if i % iter_per_epoch == 0:\n",
    "        train_acc = network.accuracy(x_train, t_train)\n",
    "        test_acc = network.accuracy(x_test, t_test)\n",
    "\n",
    "        train_acc_list.append(train_acc)\n",
    "        test_acc_list.append(test_acc)\n",
    "\n",
    "        print(\"train acc, test acc | \" + str(train_acc) + \", \" + str(test_acc))"
   ]
  }
 ],
 "metadata": {
  "kernelspec": {
   "display_name": "base",
   "language": "python",
   "name": "python3"
  },
  "language_info": {
   "codemirror_mode": {
    "name": "ipython",
    "version": 3
   },
   "file_extension": ".py",
   "mimetype": "text/x-python",
   "name": "python",
   "nbconvert_exporter": "python",
   "pygments_lexer": "ipython3",
   "version": "3.11.7"
  }
 },
 "nbformat": 4,
 "nbformat_minor": 5
}
